{
 "cells": [
  {
   "cell_type": "markdown",
   "metadata": {
    "colab_type": "text",
    "id": "view-in-github"
   },
   "source": [
    "<a href=\"https://colab.research.google.com/github/human-centered-ai-lab/kdy-kandinsky-pattern-generator/blob/master/generate_kandinsky_patterns.ipynb\" target=\"_parent\"><img src=\"https://colab.research.google.com/assets/colab-badge.svg\" alt=\"Open In Colab\"/></a>"
   ]
  },
  {
   "cell_type": "markdown",
   "metadata": {
    "colab_type": "text",
    "id": "r9BVA5yfWbDH"
   },
   "source": [
    "# Kandinsky Patterns \n",
    "\n",
    "A **Kandinsky Pattern** is of a set of Kandinsky Figures following a \"Model of Truth\", i.e. for each  Kandinsky Figure, we can tell if it belongs to the Kandinsky Pattern and why this is the case.\n",
    "\n",
    "A **Kandinsky Figure** consists of 1 ... n shapes in a square with the following assumptions:\n",
    "\n",
    "*  each shape has a \n",
    "  *   type: *circle*, *square*,  *triangle*, etc. \n",
    "  *   colour: *red*, *blue*,  *yellow*, etc. \n",
    "  *   specifc size and position  \n",
    "*   Shapes are non overlapping\n",
    "*   Shapes are completly within the square, i.e. they have a maximal size\n",
    "*   Shapes are recognisable, i.e. they have a minimal size\n",
    "\n",
    "\n",
    "### TODOs\n",
    "\n",
    "* generate descriptions of Kandinsky Figures\n",
    "* train a caption network, see https://github.com/Hvass-Labs/TensorFlow-Tutorials/blob/master/22_Image_Captioning.ipynb"
   ]
  },
  {
   "cell_type": "code",
   "execution_count": null,
   "metadata": {
    "colab": {},
    "colab_type": "code",
    "id": "DCd2nHoZWfs1"
   },
   "outputs": [],
   "source": [
    "import numpy as np\n",
    "import os\n",
    "import math\n",
    "import random\n",
    "from PIL import Image, ImageFont, ImageDraw, ImageEnhance, ImageChops\n",
    "\n",
    "WIDTH = 120\n",
    "MINSIZE = 20\n",
    "MAXSIZE = 40\n",
    "\n",
    "kandinsky_colors = ['red','yellow','blue']\n",
    "kandinsky_numbers = ['zero','one','two','three','four','five','six','seven','eight','nine','ten']\n",
    "\n",
    "\n",
    "def square (d,cx,cy,s,f):\n",
    "  s = 0.7 * s\n",
    "  d.rectangle(((cx-s/2, cy-s/2), (cx+s/2, cy+s/2)), fill=f)\n",
    "\n",
    "def circle (d,cx,cy,s,f):\n",
    "  # correct the size to the same area as an square\n",
    "  s = 0.7 * s * 4 / math.pi \n",
    "  d.ellipse(((cx-s/2, cy-s/2), (cx+s/2, cy+s/2)), fill=f)\n",
    "\n",
    "def triangle (d,cx,cy,s,f):\n",
    "  r = math.radians(30)\n",
    "  # correct the size to the same area as an square\n",
    "  s = 0.7 * s * 3 * math.sqrt(3) / 4\n",
    "  dx = s * math.cos (r) / 2\n",
    "  dy = s * math.sin (r) / 2\n",
    "  d.polygon([(cx,cy-s/2), (cx+dx, cy+dy), (cx-dx,cy+dy)], fill = f)\n",
    "\n",
    "kandinsky_shapes = [square, circle, triangle]\n",
    "\n",
    "def kandinskyFigure (shapes, subsampling = 1):\n",
    "  image = Image.new(\"RGBA\", (subsampling*WIDTH, subsampling*WIDTH), (220,220,220,255))\n",
    "  d = ImageDraw.Draw(image)\n",
    "  for s in shapes:\n",
    "      s['shape']( d, subsampling*s['cx'], subsampling*s['cy'], subsampling*s['size'], s['color'] )\n",
    "  if subsampling>1:\n",
    "    image.thumbnail((WIDTH,WIDTH), Image.ANTIALIAS)\n",
    "  return image\n",
    "\n",
    "def overlaps (shapes):\n",
    "  image = Image.new(\"L\", (WIDTH,WIDTH), 0)\n",
    "  sumarray = np.array(image)\n",
    "  d = ImageDraw.Draw(image)\n",
    "  \n",
    "  for s in shapes:\n",
    "    image = Image.new(\"L\", (WIDTH,WIDTH), 0)\n",
    "    d = ImageDraw.Draw(image)\n",
    "    s['shape']( d, s['cx'], s['cy'], s['size'], 10)\n",
    "    sumarray = sumarray + np.array(image)\n",
    "\n",
    "  sumimage = Image.fromarray(sumarray)\n",
    "  return sumimage.getextrema()[1] > 10\n",
    "\n",
    "def combineFigures (n, f):\n",
    "  images = []\n",
    "  for i in range (n):\n",
    "    shapes = f()\n",
    "    while overlaps (shapes):\n",
    "      shapes = f()\n",
    "    image = kandinskyFigure(shapes, 4)    \n",
    "    images.append(image)\n",
    "  \n",
    "  allimages = Image.new(\"RGBA\", (WIDTH*n+20*(n-1),WIDTH), (255,255,255,255))\n",
    "  for i in range (n):\n",
    "    allimages.paste(images[i], (WIDTH*i+20*(i), 0))\n",
    "  return allimages"
   ]
  },
  {
   "cell_type": "markdown",
   "metadata": {
    "colab_type": "text",
    "id": "-kzpf26x_kyK"
   },
   "source": [
    "A *Generator Function* produces a  Kandinsky Figure , wich belongs to a specific Kandinsky Pattern "
   ]
  },
  {
   "cell_type": "code",
   "execution_count": null,
   "metadata": {
    "colab": {},
    "colab_type": "code",
    "id": "Mp_0trep_G9g"
   },
   "outputs": [],
   "source": [
    "def randomShapes(min, max):\n",
    "  nshapes = random.randint(min,max)\n",
    "  shapes = []\n",
    "  for i in range(nshapes):\n",
    "    cx = random.randint(MAXSIZE/2,WIDTH-MAXSIZE/2)\n",
    "    cy = random.randint(MAXSIZE/2,WIDTH-MAXSIZE/2)\n",
    "    size = random.randint(MINSIZE,MAXSIZE)\n",
    "    col = random.randint(0,2)\n",
    "    sha = random.randint(0,2)\n",
    "    shape = {'shape':kandinsky_shapes[sha], 'cx':cx, 'cy':cy, 'size':size, 'color':kandinsky_colors[col]}\n",
    "    shapes.append(shape)\n",
    "  return shapes\n",
    "\n",
    "def onlyCircles (min, max):\n",
    "  nshapes = random.randint (min,max)\n",
    "  shapes = []\n",
    "  for i in range(nshapes):\n",
    "    cx = random.randint(MAXSIZE/2,WIDTH-MAXSIZE/2)\n",
    "    cy = random.randint(MAXSIZE/2,WIDTH-MAXSIZE/2)\n",
    "    size = random.randint(MINSIZE,MAXSIZE)\n",
    "    col = random.randint(0,2)   \n",
    "    shape = {'shape':circle, 'cx':cx, 'cy':cy, 'size':size, 'color':kandinsky_colors[col]}\n",
    "    shapes.append(shape)\n",
    "  return shapes\n",
    "\n",
    "def shapesOnLine (min, max):\n",
    "  nshapes = random.randint(min,max)\n",
    "  \n",
    "  dx = math.cos(random.random()* math.pi * 2) * (WIDTH/2-MAXSIZE/2)\n",
    "  dy = math.sin(random.random()* math.pi * 2) * (WIDTH/2-MAXSIZE/2)\n",
    "  sx = WIDTH/2 - dx  \n",
    "  sy = WIDTH/2 + dy  \n",
    "  ex = WIDTH/2 + dx  \n",
    "  ey = WIDTH/2 - dy  \n",
    "  dx = ex-sx\n",
    "  dy = ey-sy\n",
    "  shapes = []\n",
    "  for i in range(nshapes):\n",
    "    r = random.random() \n",
    "    cx = sx + r * dx\n",
    "    cy = sy + r * dy\n",
    "    size = random.randint(MINSIZE,MAXSIZE)\n",
    "    col = random.randint(0,2)\n",
    "    sha = random.randint(0,2)\n",
    "    shape = {'shape':kandinsky_shapes[sha], 'cx':cx, 'cy':cy, 'size':size, 'color':kandinsky_colors[col]}\n",
    "    shapes.append(shape)\n",
    "\n",
    "  return shapes\n",
    "\n",
    "def shapesWithEqualArea(min, max):\n",
    "  nshapes = random.randint(min,max)\n",
    "  shapes = []\n",
    "  size = random.randint(MINSIZE,MAXSIZE)\n",
    "  for i in range(nshapes):\n",
    "    cx = random.randint(MAXSIZE/2,WIDTH-MAXSIZE/2)\n",
    "    cy = random.randint(MAXSIZE/2,WIDTH-MAXSIZE/2)\n",
    "    col = random.randint(0,2)\n",
    "    sha = random.randint(0,2)\n",
    "    shape = {'shape':kandinsky_shapes[sha], 'cx':cx, 'cy':cy, 'size':size, 'color':kandinsky_colors[col]}\n",
    "    shapes.append(shape)\n",
    "  return shapes\n",
    "\n",
    "def twoPairsOnlyOneWithSameColor():\n",
    "  shapes = []\n",
    "  size = random.randint(MINSIZE,MAXSIZE)\n",
    "\n",
    "  sha = random.randint(0,2)\n",
    "  col = random.randint(0,2)\n",
    "  cx = random.randint(MAXSIZE/2,WIDTH-MAXSIZE/2)\n",
    "  cy = random.randint(MAXSIZE/2,WIDTH-MAXSIZE/2)\n",
    "  shape = {'shape':kandinsky_shapes[sha], 'cx':cx, 'cy':cy, 'size':size, 'color':kandinsky_colors[col]}\n",
    "  shapes.append(shape)\n",
    " \n",
    "  colOld = col \n",
    "  while col == colOld:\n",
    "    col = random.randint(0,2) \n",
    "  cx = random.randint(MAXSIZE/2,WIDTH-MAXSIZE/2)\n",
    "  cy = random.randint(MAXSIZE/2,WIDTH-MAXSIZE/2)\n",
    "  size = random.randint(MINSIZE,MAXSIZE)\n",
    "  shape = {'shape':kandinsky_shapes[sha], 'cx':cx, 'cy':cy, 'size':size, 'color':kandinsky_colors[col]}\n",
    "  shapes.append(shape)\n",
    "  \n",
    "  shaOld = sha \n",
    "  while sha == shaOld:\n",
    "     sha = random.randint (0,2)\n",
    "      \n",
    "  col = random.randint (0,2)\n",
    "  for i in range (2):\n",
    "    cx = random.randint(MAXSIZE/2,WIDTH-MAXSIZE/2)\n",
    "    cy = random.randint(MAXSIZE/2,WIDTH-MAXSIZE/2)\n",
    "    size = random.randint(MINSIZE,MAXSIZE)\n",
    "    shape = {'shape':kandinsky_shapes[sha], 'cx':cx, 'cy':cy, 'size':size, 'color':kandinsky_colors[col]}\n",
    "    shapes.append(shape)    \n",
    "  return shapes"
   ]
  },
  {
   "cell_type": "code",
   "execution_count": null,
   "metadata": {
    "colab": {
     "base_uri": "https://localhost:8080/",
     "height": 138
    },
    "colab_type": "code",
    "id": "WG3KRAWD7EWg",
    "outputId": "ed62d994-83fc-4587-a23d-87e79954a72b"
   },
   "outputs": [],
   "source": [
    "combineFigures(6, lambda: randomShapes(1,3))"
   ]
  },
  {
   "cell_type": "code",
   "execution_count": null,
   "metadata": {
    "colab": {
     "base_uri": "https://localhost:8080/",
     "height": 138
    },
    "colab_type": "code",
    "id": "jV-txPBogxv9",
    "outputId": "8915c9c2-664b-4874-9302-4a11894abab0"
   },
   "outputs": [],
   "source": [
    "combineFigures(6, lambda: twoPairsOnlyOneWithSameColor())"
   ]
  },
  {
   "cell_type": "code",
   "execution_count": null,
   "metadata": {
    "colab": {
     "base_uri": "https://localhost:8080/",
     "height": 158
    },
    "colab_type": "code",
    "id": "DuURFWuL5A85",
    "outputId": "8e8b76c5-c315-404d-b418-9419f40a118c"
   },
   "outputs": [],
   "source": [
    "combineFigures(6, lambda: shapesOnLine(4,4))"
   ]
  },
  {
   "cell_type": "code",
   "execution_count": null,
   "metadata": {
    "colab": {
     "base_uri": "https://localhost:8080/",
     "height": 158
    },
    "colab_type": "code",
    "id": "btpcj3oIB8tK",
    "outputId": "823f3121-5970-44bf-8879-c0713486486b"
   },
   "outputs": [],
   "source": [
    "combineFigures(6, lambda: onlyCircles(6,6))"
   ]
  },
  {
   "cell_type": "code",
   "execution_count": null,
   "metadata": {},
   "outputs": [],
   "source": [
    "combineFigures(6, lambda: shapesWithEqualArea(4,6))"
   ]
  },
  {
   "cell_type": "code",
   "execution_count": null,
   "metadata": {
    "colab": {},
    "colab_type": "code",
    "id": "7azv5aNG1srq"
   },
   "outputs": [],
   "source": [
    "# Creates descriptions of Kandinsky Patterns:\n",
    "DELTASIZE = MAXSIZE - MINSIZE\n",
    "SMALLSIZECHECK = MINSIZE + DELTASIZE / 3\n",
    "BIGSIZECHECK = MAXSIZE - DELTASIZE / 3\n",
    "\n",
    "def descColorShapeSize (shapes, prefix = ''):\n",
    "    descrition = prefix\n",
    "    multipleshape = False\n",
    "    for s in shapes:\n",
    "        if multipleshape: descrition = descrition + \" and \" + prefix \n",
    "        sizestring = ''\n",
    "        if s['size'] < SMALLSIZECHECK: sizestring = 'small'\n",
    "        if s['size'] > BIGSIZECHECK: sizestring = 'big'\n",
    "        if len (sizestring) > 0:  descrition = descrition + sizestring +  \" \"\n",
    "        descrition = descrition + s['color'] + \" \" + s['shape'].__name__\n",
    "        multipleshape = True \n",
    "    return descrition\n",
    "  \n",
    "def descNumbers (shapes):  \n",
    "  descrition = descColorShapeSize (shapes, 'one ')\n",
    "  #lets look if we find some patterns\n",
    "  ns = {}\n",
    "  nc = {}\n",
    "  for s in kandinsky_shapes: ns[s] = 0\n",
    "  for s in kandinsky_colors: nc[s] = 0\n",
    "  for s in shapes:\n",
    "      ns[s['shape']] += 1\n",
    "      nc[s['color']] += 1\n",
    "  maxcolor = ''\n",
    "  maxshape = ''\n",
    "  maxnumcolor = 0\n",
    "  maxnumshap  = 0\n",
    "  for c in kandinsky_colors: \n",
    "      if nc[c] > maxnumcolor:\n",
    "        maxnumcolor = nc[c]\n",
    "        maxcolor = c\n",
    "  for s in kandinsky_shapes: \n",
    "      if ns[s] > maxnumshap:\n",
    "        maxnumshap = ns[s]\n",
    "        maxshape = s.__name__\n",
    "\n",
    "  if maxnumcolor > 1 or maxnumshap > 1:\n",
    "    if maxnumcolor >= maxnumshap:\n",
    "        descrition = kandinsky_numbers[maxnumcolor] + \" \" + maxcolor + \" shapes\"\n",
    "    else:  \n",
    "        descrition = kandinsky_numbers[maxnumshap] + \" \" + maxshape + \"s\"\n",
    "  \n",
    "    if (maxnumcolor == maxnumshap) and (maxnumcolor == len(shapes)):\n",
    "        descrition = kandinsky_numbers[maxnumshap] + \" \" + maxcolor + \" \" + maxshape + \"s\"\n",
    "    \n",
    "  return descrition  \n",
    "  \n",
    "def descPairs (shapes):  \n",
    "  # thats not perfect, it e.g. does not describe two pairs, or a pair, if some other shape has 3 objects\n",
    "  descrition =  \"\"\n",
    "  ns = {}\n",
    "  for s in kandinsky_shapes: ns[s] = 0\n",
    "  for s in shapes:\n",
    "      ns[s['shape']] += 1\n",
    "  maxshape = ''\n",
    "  maxnumshap  = 0\n",
    "  for s in kandinsky_shapes: \n",
    "      if ns[s] > maxnumshap:\n",
    "        maxnumshap = ns[s]\n",
    "        maxshape = s.__name__\n",
    "  if maxnumshap ==  2:\n",
    "     descrition = \"a pair of \"+ maxshape + \"s\"    \n",
    "  return descrition  "
   ]
  },
  {
   "cell_type": "code",
   "execution_count": null,
   "metadata": {
    "colab": {},
    "colab_type": "code",
    "id": "XWFaXkRaBRxe"
   },
   "outputs": [],
   "source": [
    "# creates kandinsky images and a description file and stores all in folder \"randomcaptions\" \n",
    "f = lambda: randomShapes(4,6)\n",
    "os.makedirs(\"randomcaptions\", exist_ok=True)\n",
    "for i in range (100):\n",
    "  shapes = f()\n",
    "  while overlaps (shapes):\n",
    "    shapes = f()\n",
    "  \n",
    "  descrition = descNumbers (shapes)\n",
    "  image = kandinskyFigure (shapes,4)  \n",
    "  filename = \"randomcaptions/%06d\" % i #000001, 000002 etc.\n",
    "  image.save (filename+\".png\")\n",
    "  text_file = open(filename+\".txt\", \"w\")\n",
    "  text_file.write(descrition)\n",
    "  text_file.close()  "
   ]
  },
  {
   "cell_type": "code",
   "execution_count": null,
   "metadata": {
    "colab": {
     "base_uri": "https://localhost:8080/",
     "height": 190
    },
    "colab_type": "code",
    "id": "H4iy97MiPZ9U",
    "outputId": "9403f149-0c93-4e82-a725-4e9348adbdb9"
   },
   "outputs": [],
   "source": [
    "# creates kandinsky images and a description below:\n",
    "f = lambda: RandomShapes(4,6)\n",
    "shapes = f()\n",
    "while overlaps (shapes) or len (descPairs(shapes)) == 0:\n",
    "    shapes = f()\n",
    "  \n",
    "print(descColorShapeSize(shapes))\n",
    "print(descNumbers(shapes))\n",
    "print(descPairs(shapes))\n",
    "kandinskyFigure(shapes, 4) \n",
    " "
   ]
  },
  {
   "cell_type": "code",
   "execution_count": null,
   "metadata": {},
   "outputs": [],
   "source": []
  },
  {
   "cell_type": "code",
   "execution_count": null,
   "metadata": {},
   "outputs": [],
   "source": []
  },
  {
   "cell_type": "code",
   "execution_count": null,
   "metadata": {},
   "outputs": [],
   "source": []
  },
  {
   "cell_type": "code",
   "execution_count": null,
   "metadata": {},
   "outputs": [],
   "source": []
  }
 ],
 "metadata": {
  "colab": {
   "include_colab_link": true,
   "name": "generate-kandinsky-patterns.ipynb",
   "provenance": [],
   "toc_visible": true,
   "version": "0.3.2"
  },
  "kernelspec": {
   "display_name": "Python 3",
   "language": "python",
   "name": "python3"
  },
  "language_info": {
   "codemirror_mode": {
    "name": "ipython",
    "version": 3
   },
   "file_extension": ".py",
   "mimetype": "text/x-python",
   "name": "python",
   "nbconvert_exporter": "python",
   "pygments_lexer": "ipython3",
   "version": "3.7.1"
  }
 },
 "nbformat": 4,
 "nbformat_minor": 1
}
